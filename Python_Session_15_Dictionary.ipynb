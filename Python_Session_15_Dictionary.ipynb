{
 "cells": [
  {
   "cell_type": "markdown",
   "id": "83f18859-945e-4fce-ad8b-b4bc2e1ee234",
   "metadata": {},
   "source": [
    "**Dictionary**\n",
    "\n",
    "- Dictionary is represents with curly braces\n",
    "\n",
    "- Strings using quotes\n",
    "\n",
    "- List using square brackets\n",
    "\n",
    "- type using paranthesis\n",
    "\n",
    "- Dictionary is always a pair key and value"
   ]
  },
  {
   "cell_type": "code",
   "execution_count": 2,
   "id": "dfd20636-93e6-49a9-9025-e99b2e6e97be",
   "metadata": {},
   "outputs": [
    {
     "name": "stdout",
     "output_type": "stream",
     "text": [
      "the 25 of manish is [25, 20, 15]\n",
      "the 20 of shubham is [25, 20, 15]\n",
      "the 15 of govindh is [25, 20, 15]\n"
     ]
    }
   ],
   "source": [
    "name = ['manish','shubham','govindh']\n",
    "age = [25,20,15]\n",
    "for i,j in zip(name,age):\n",
    "    print(f\"the {j} of {i} is {age}\")"
   ]
  },
  {
   "cell_type": "code",
   "execution_count": 5,
   "id": "a689e43b-7f7c-4f74-8410-fdfdb7916ffc",
   "metadata": {},
   "outputs": [
    {
     "data": {
      "text/plain": [
       "{'manish': 25, 'shubham': 20, 'govindh': 1}"
      ]
     },
     "execution_count": 5,
     "metadata": {},
     "output_type": "execute_result"
    }
   ],
   "source": [
    "# {<key>:<value>}\n",
    "dict1 = {'manish':25 ,'shubham':20, 'govindh':1}\n",
    "dict1"
   ]
  },
  {
   "cell_type": "code",
   "execution_count": 6,
   "id": "2cfb31c6-8093-4561-96f4-8b2686613a86",
   "metadata": {},
   "outputs": [
    {
     "data": {
      "text/plain": [
       "dict"
      ]
     },
     "execution_count": 6,
     "metadata": {},
     "output_type": "execute_result"
    }
   ],
   "source": [
    "type(dict1)\n"
   ]
  },
  {
   "cell_type": "code",
   "execution_count": null,
   "id": "a1fc5374-f89c-4503-89fb-79bdc72ee430",
   "metadata": {},
   "outputs": [],
   "source": [
    "Quotes for 25??"
   ]
  },
  {
   "cell_type": "code",
   "execution_count": null,
   "id": "6a8451d4-e17c-4df7-995a-309db65b6c1f",
   "metadata": {},
   "outputs": [],
   "source": [
    "d1 = {'manish':25 ,'shubham':20, 'govindh':15}\n",
    "d2 = {'manish':'25' ,'shubham':'20', 'govindh':'15'}\n",
    "d3 = {25:'manish' ,20:'shubham', 15:'govindh'}\n",
    "d4 = {25:50}\n",
    "d5 = {'Fruites':['Apple','Cherry']}\n",
    "d6 = {['Apple','Cherry']:'Fruites'}\n",
    "d7 = {'Ajay':25,'Ajay':30}\n",
    "d8 = {25:'Ajay',30:'Ajay'}"
   ]
  },
  {
   "cell_type": "code",
   "execution_count": 12,
   "id": "18577b7f-0b4b-46a2-837f-9c0a75d8e18c",
   "metadata": {},
   "outputs": [
    {
     "data": {
      "text/plain": [
       "{'manish': 25, 'shubham': 20, 'govindh': 15}"
      ]
     },
     "execution_count": 12,
     "metadata": {},
     "output_type": "execute_result"
    }
   ],
   "source": [
    "d1"
   ]
  },
  {
   "cell_type": "code",
   "execution_count": 13,
   "id": "ee288f16-28cf-4d01-ad10-5044db893762",
   "metadata": {},
   "outputs": [
    {
     "data": {
      "text/plain": [
       "{'manish': '25', 'shubham': '20', 'govindh': '15'}"
      ]
     },
     "execution_count": 13,
     "metadata": {},
     "output_type": "execute_result"
    }
   ],
   "source": [
    "d2"
   ]
  },
  {
   "cell_type": "code",
   "execution_count": 14,
   "id": "bdb37061-eb3c-4ea8-a190-dbe9a240e12a",
   "metadata": {},
   "outputs": [
    {
     "data": {
      "text/plain": [
       "{25: 'manish', 20: 'shubham', 15: 'govindh'}"
      ]
     },
     "execution_count": 14,
     "metadata": {},
     "output_type": "execute_result"
    }
   ],
   "source": [
    "d3"
   ]
  },
  {
   "cell_type": "code",
   "execution_count": 15,
   "id": "b53a6ef9-d064-404c-b6f7-aa5f78fa458e",
   "metadata": {},
   "outputs": [
    {
     "data": {
      "text/plain": [
       "{25: 50}"
      ]
     },
     "execution_count": 15,
     "metadata": {},
     "output_type": "execute_result"
    }
   ],
   "source": [
    "d4"
   ]
  },
  {
   "cell_type": "code",
   "execution_count": 16,
   "id": "9c9b93d7-3c8b-4a67-afa7-b5e4027b7195",
   "metadata": {},
   "outputs": [
    {
     "data": {
      "text/plain": [
       "{'Fruites': ['Apple', 'Cherry']}"
      ]
     },
     "execution_count": 16,
     "metadata": {},
     "output_type": "execute_result"
    }
   ],
   "source": [
    "d5"
   ]
  },
  {
   "cell_type": "code",
   "execution_count": 26,
   "id": "e4602629-01cf-4c35-b43a-11d3afa6ab35",
   "metadata": {},
   "outputs": [
    {
     "ename": "TypeError",
     "evalue": "unhashable type: 'list'",
     "output_type": "error",
     "traceback": [
      "\u001b[1;31m---------------------------------------------------------------------------\u001b[0m",
      "\u001b[1;31mTypeError\u001b[0m                                 Traceback (most recent call last)",
      "Cell \u001b[1;32mIn[26], line 1\u001b[0m\n\u001b[1;32m----> 1\u001b[0m d6 \u001b[38;5;241m=\u001b[39m {[\u001b[38;5;124m'\u001b[39m\u001b[38;5;124mApple\u001b[39m\u001b[38;5;124m'\u001b[39m,\u001b[38;5;124m'\u001b[39m\u001b[38;5;124mCherry\u001b[39m\u001b[38;5;124m'\u001b[39m]:\u001b[38;5;124m'\u001b[39m\u001b[38;5;124mFruites\u001b[39m\u001b[38;5;124m'\u001b[39m}\n\u001b[0;32m      2\u001b[0m d6\n",
      "\u001b[1;31mTypeError\u001b[0m: unhashable type: 'list'"
     ]
    }
   ],
   "source": [
    "d6 = {['Apple','Cherry']:'Fruites'}\n",
    "d6"
   ]
  },
  {
   "cell_type": "code",
   "execution_count": 30,
   "id": "71005c6f-b2ee-436f-aa03-dd1066af27af",
   "metadata": {},
   "outputs": [
    {
     "data": {
      "text/plain": [
       "{('Apple', 'Cherry'): 'Fruites'}"
      ]
     },
     "execution_count": 30,
     "metadata": {},
     "output_type": "execute_result"
    }
   ],
   "source": [
    "d6 = {('Apple','Cherry'):'Fruites'}\n",
    "d6"
   ]
  },
  {
   "cell_type": "code",
   "execution_count": 27,
   "id": "8af51e5f-eca1-48d1-8d51-bd15af8606a8",
   "metadata": {},
   "outputs": [
    {
     "data": {
      "text/plain": [
       "{'Ajay': 30}"
      ]
     },
     "execution_count": 27,
     "metadata": {},
     "output_type": "execute_result"
    }
   ],
   "source": [
    "d7 = {'Ajay':25,'Ajay':30}\n",
    "d7"
   ]
  },
  {
   "cell_type": "code",
   "execution_count": 28,
   "id": "9cd86abd-ae11-4ad3-8762-a337d8dec27b",
   "metadata": {},
   "outputs": [
    {
     "data": {
      "text/plain": [
       "{25: 'Ajay', 30: 'Ajay'}"
      ]
     },
     "execution_count": 28,
     "metadata": {},
     "output_type": "execute_result"
    }
   ],
   "source": [
    "d8 = {25:'Ajay',30:'Ajay'}\n",
    "d8"
   ]
  },
  {
   "cell_type": "code",
   "execution_count": null,
   "id": "130ca2ea-c524-4d19-8ddb-aa3d9ecb156b",
   "metadata": {},
   "outputs": [],
   "source": [
    "d9 = 25:'Ajay,30:{'"
   ]
  },
  {
   "cell_type": "markdown",
   "id": "fc362875-b495-4bc7-874c-54d6c01893c2",
   "metadata": {},
   "source": [
    "- **keys are important**\n",
    "\n",
    "- Keys have only latest value\n",
    "\n",
    "- No duplicate keys\n",
    "\n",
    "- Keys should be only one\n",
    "\n",
    "- Values can be duplicate\n",
    "\n",
    "- which means different keys can have same value\n",
    "\n",
    "- List cannot be a key\n",
    "\n",
    "- Tuple can be a key"
   ]
  },
  {
   "cell_type": "code",
   "execution_count": null,
   "id": "29c4c4ad-7f12-404b-9f32-11afa690e32b",
   "metadata": {},
   "outputs": [],
   "source": [
    "- min \n",
    "\n",
    "- max\n",
    "\n",
    "- len\n",
    "\n",
    "- sorted\n",
    "\n",
    "- reversed"
   ]
  },
  {
   "cell_type": "code",
   "execution_count": 33,
   "id": "920b6924-7f3f-4e11-b1c2-48352872a24d",
   "metadata": {},
   "outputs": [
    {
     "data": {
      "text/plain": [
       "'govindh'"
      ]
     },
     "execution_count": 33,
     "metadata": {},
     "output_type": "execute_result"
    }
   ],
   "source": [
    "dc1= {'manish':25 ,'shubham':20, 'govindh':15}\n",
    "min(dc1)\n"
   ]
  },
  {
   "cell_type": "code",
   "execution_count": 34,
   "id": "1976b633-8358-40d0-9a0f-bbdf5e8e2918",
   "metadata": {},
   "outputs": [
    {
     "data": {
      "text/plain": [
       "'shubham'"
      ]
     },
     "execution_count": 34,
     "metadata": {},
     "output_type": "execute_result"
    }
   ],
   "source": [
    "dc1= {'manish':25 ,'shubham':20, 'govindh':15}\n",
    "max(dc1)"
   ]
  },
  {
   "cell_type": "code",
   "execution_count": 35,
   "id": "d9ccfed6-ed50-4959-b7a7-9f9ea94cfc02",
   "metadata": {},
   "outputs": [
    {
     "data": {
      "text/plain": [
       "3"
      ]
     },
     "execution_count": 35,
     "metadata": {},
     "output_type": "execute_result"
    }
   ],
   "source": [
    "dc1= {'manish':25 ,'shubham':20, 'govindh':15}\n",
    "len(dc1)"
   ]
  },
  {
   "cell_type": "code",
   "execution_count": 36,
   "id": "79058d49-604a-430f-b510-f90fda2f78b0",
   "metadata": {},
   "outputs": [
    {
     "data": {
      "text/plain": [
       "['govindh', 'manish', 'shubham']"
      ]
     },
     "execution_count": 36,
     "metadata": {},
     "output_type": "execute_result"
    }
   ],
   "source": [
    "dc1= {'manish':25 ,'shubham':20, 'govindh':15}\n",
    "sorted(dc1)"
   ]
  },
  {
   "cell_type": "code",
   "execution_count": 39,
   "id": "537ee68a-4c0b-437f-890a-e5c396d9422b",
   "metadata": {},
   "outputs": [
    {
     "name": "stdout",
     "output_type": "stream",
     "text": [
      "govindh shubham manish "
     ]
    }
   ],
   "source": [
    "dc1= {'manish':25 ,'shubham':20, 'govindh':15}\n",
    "for i in reversed(dc1):\n",
    "    print(i,end=' ')"
   ]
  },
  {
   "cell_type": "markdown",
   "id": "98e89fde-45b2-4b94-8e52-980498ffcbab",
   "metadata": {},
   "source": [
    "**indexing**"
   ]
  },
  {
   "cell_type": "code",
   "execution_count": 1,
   "id": "52b3eaf1-2a43-4f70-a9f0-c5e1d6b87a66",
   "metadata": {},
   "outputs": [
    {
     "data": {
      "text/plain": [
       "25"
      ]
     },
     "execution_count": 1,
     "metadata": {},
     "output_type": "execute_result"
    }
   ],
   "source": [
    "d1 = {'Manish':25,'Shubham':20,'Govindh':15}\n",
    "d1['Manish']\n"
   ]
  },
  {
   "cell_type": "markdown",
   "id": "af07b1d8-1168-43de-98ef-5fbf402a4cfd",
   "metadata": {},
   "source": [
    "**keys are important**\n",
    "\n",
    "- dictionary is a key value pair\n",
    "\n",
    "- There is no concept of index as numbers\n",
    "\n",
    "- If you want to retrive any value,we need to provide key as index\n",
    "\n",
    "- we can access values using only coreesponding **keys**"
   ]
  },
  {
   "cell_type": "code",
   "execution_count": 2,
   "id": "714d2f03-0b23-48b5-856c-87a20587f4f7",
   "metadata": {},
   "outputs": [
    {
     "name": "stdout",
     "output_type": "stream",
     "text": [
      "25\n",
      "20\n",
      "15\n"
     ]
    }
   ],
   "source": [
    "d1 = {'Manish':25,'Shubham':20,'Govindh':15}\n",
    "print(d1['Manish'])\n",
    "print(d1['Shubham'])\n",
    "print(d1['Govindh'])"
   ]
  },
  {
   "cell_type": "code",
   "execution_count": 8,
   "id": "6480a96f-fc1e-4d23-8dc9-b2b607403818",
   "metadata": {},
   "outputs": [
    {
     "name": "stdout",
     "output_type": "stream",
     "text": [
      "Manish age is 25\n",
      "Shubham age is 20\n",
      "Govindh age is 15\n"
     ]
    }
   ],
   "source": [
    "for i in d1:\n",
    "    print(f\"{i} age is {d1[i]}\")"
   ]
  },
  {
   "cell_type": "code",
   "execution_count": 15,
   "id": "683e6794-716e-4d95-8321-463d6c3453c2",
   "metadata": {},
   "outputs": [
    {
     "data": {
      "text/plain": [
       "'Kashmir'"
      ]
     },
     "execution_count": 15,
     "metadata": {},
     "output_type": "execute_result"
    }
   ],
   "source": [
    "d1 = {'Fruites':{'Apple':['Kashmir']}}\n",
    "d1['Fruites']['Apple'][0]"
   ]
  },
  {
   "cell_type": "code",
   "execution_count": 18,
   "id": "a2e482eb-d0a3-4a7f-9734-dd0fcb554001",
   "metadata": {},
   "outputs": [
    {
     "data": {
      "text/plain": [
       "'india'"
      ]
     },
     "execution_count": 18,
     "metadata": {},
     "output_type": "execute_result"
    }
   ],
   "source": [
    "d1 = {'Fruites':{'Apple':[{'Kashmir':'india'},{'Hyd':'TS'}]}}\n",
    "d1['Fruites']['Apple'][0]['Kashmir']"
   ]
  },
  {
   "cell_type": "code",
   "execution_count": 23,
   "id": "31aee621-c181-4e4e-a770-062b7cca6742",
   "metadata": {},
   "outputs": [
    {
     "data": {
      "text/plain": [
       "'TS'"
      ]
     },
     "execution_count": 23,
     "metadata": {},
     "output_type": "execute_result"
    }
   ],
   "source": [
    "d1['Fruites']['Apple'][1]['Hyd']"
   ]
  },
  {
   "cell_type": "code",
   "execution_count": 28,
   "id": "b3390aed-148e-4a94-82e3-ff78ca887ac8",
   "metadata": {},
   "outputs": [
    {
     "data": {
      "text/plain": [
       "'the boss'"
      ]
     },
     "execution_count": 28,
     "metadata": {},
     "output_type": "execute_result"
    }
   ],
   "source": [
    "d1 ={'Fruites':{'Mango':{'Benganpalli':{'Nagpur market':{'MH':{'Shivaji':'the boss'}}}}}}\n",
    "d1['Fruites']['Mango']['Benganpalli']['Nagpur market']['MH']['Shivaji']"
   ]
  },
  {
   "cell_type": "code",
   "execution_count": 29,
   "id": "01278f64-bd21-44f6-95ef-ead308b416b6",
   "metadata": {},
   "outputs": [
    {
     "data": {
      "text/plain": [
       "1"
      ]
     },
     "execution_count": 29,
     "metadata": {},
     "output_type": "execute_result"
    }
   ],
   "source": [
    "len(d1)"
   ]
  },
  {
   "cell_type": "markdown",
   "id": "ffe7212e-fa36-4d9c-a97a-cbb5a8268975",
   "metadata": {},
   "source": [
    "**How to create empty dictionary**\n",
    "\n",
    "- It is very important to know how to make empty list\n",
    "\n",
    "- How to make empty string\n",
    "\n",
    "- How to make empty dictionary"
   ]
  },
  {
   "cell_type": "code",
   "execution_count": 31,
   "id": "7f9fdc37-3721-468d-971c-8f13bd23865e",
   "metadata": {},
   "outputs": [
    {
     "data": {
      "text/plain": [
       "'python'"
      ]
     },
     "execution_count": 31,
     "metadata": {},
     "output_type": "execute_result"
    }
   ],
   "source": [
    "str1 = 'python'\n",
    "str2 = ''\n",
    "for i in str1:\n",
    "    str2 = str2 + i\n",
    "str2"
   ]
  },
  {
   "cell_type": "code",
   "execution_count": 32,
   "id": "39e52545-a556-4648-b7e6-1e43b6083157",
   "metadata": {},
   "outputs": [
    {
     "data": {
      "text/plain": [
       "[1, 2, 3, 4]"
      ]
     },
     "execution_count": 32,
     "metadata": {},
     "output_type": "execute_result"
    }
   ],
   "source": [
    "l1=[1,2,3,4]\n",
    "l2=[]\n",
    "for i in l1:\n",
    "    l2.append(i)\n",
    "\n",
    "l2"
   ]
  },
  {
   "cell_type": "code",
   "execution_count": 34,
   "id": "cddceb30-1f99-45bf-ad30-849d8a69ea63",
   "metadata": {},
   "outputs": [
    {
     "data": {
      "text/plain": [
       "{'Ramesh': 50, 'suresh': 100, 'satish': 150, 'Manish': 200}"
      ]
     },
     "execution_count": 34,
     "metadata": {},
     "output_type": "execute_result"
    }
   ],
   "source": [
    "d = {}\n",
    "d[\"Ramesh\"]=50\n",
    "d[\"suresh\"]=100\n",
    "d[\"satish\"]=150\n",
    "d['Manish']=200\n",
    "d"
   ]
  },
  {
   "cell_type": "markdown",
   "id": "1d537635-1abe-403d-b13f-0fc015593b1f",
   "metadata": {},
   "source": [
    "**Convert string to list**"
   ]
  },
  {
   "cell_type": "code",
   "execution_count": 39,
   "id": "265d2a33-5950-40fc-ad4b-26eee0ad82e8",
   "metadata": {},
   "outputs": [
    {
     "data": {
      "text/plain": [
       "['hi', 'how', 'are', 'you']"
      ]
     },
     "execution_count": 39,
     "metadata": {},
     "output_type": "execute_result"
    }
   ],
   "source": [
    "#split:convert string to list\n",
    "str1 = 'hi how are you'\n",
    "l=str1.split()\n",
    "l"
   ]
  },
  {
   "cell_type": "markdown",
   "id": "48ae3ac2-4a76-47d9-a2c4-8e4eabe5b1e7",
   "metadata": {},
   "source": [
    "**join: convert list to string**"
   ]
  },
  {
   "cell_type": "code",
   "execution_count": 44,
   "id": "8dd4da89-e9d6-4303-90eb-7e8d816b094e",
   "metadata": {},
   "outputs": [
    {
     "data": {
      "text/plain": [
       "'hi how are you'"
      ]
     },
     "execution_count": 44,
     "metadata": {},
     "output_type": "execute_result"
    }
   ],
   "source": [
    "l= ['hi', 'how', 'are', 'you']\n",
    "new_str=' '.join(l)\n",
    "new_str"
   ]
  },
  {
   "cell_type": "markdown",
   "id": "974fdf3c-c81e-44b3-b9f4-e774a60f23c6",
   "metadata": {},
   "source": [
    "**we have two lists to convert into dictionary**"
   ]
  },
  {
   "cell_type": "code",
   "execution_count": 46,
   "id": "246dd438-6f7f-40b1-9bcc-e104d5791db4",
   "metadata": {},
   "outputs": [
    {
     "data": {
      "text/plain": [
       "{'Ramesh': 25, 'Sursh': 30, 'Manish': 35}"
      ]
     },
     "execution_count": 46,
     "metadata": {},
     "output_type": "execute_result"
    }
   ],
   "source": [
    "name= ['Ramesh','Sursh','Manish']\n",
    "age=[25,30,35]\n",
    "d={}\n",
    "for i,j in zip(name,age):\n",
    "    d[i]=j\n",
    "\n",
    "d"
   ]
  },
  {
   "cell_type": "code",
   "execution_count": 47,
   "id": "cc5c21f7-caff-4627-abd0-82beaef40970",
   "metadata": {},
   "outputs": [
    {
     "data": {
      "text/plain": [
       "['hello', 'python']"
      ]
     },
     "execution_count": 47,
     "metadata": {},
     "output_type": "execute_result"
    }
   ],
   "source": [
    "str1 = 'hello python'\n",
    "l = str1.split()\n",
    "l"
   ]
  },
  {
   "cell_type": "code",
   "execution_count": 48,
   "id": "e48d19a6-aa74-42c1-9771-78a704875abb",
   "metadata": {},
   "outputs": [
    {
     "data": {
      "text/plain": [
       "'hello python'"
      ]
     },
     "execution_count": 48,
     "metadata": {},
     "output_type": "execute_result"
    }
   ],
   "source": [
    "l = ['hello', 'python']\n",
    "new_str = ' '.join(l)\n",
    "new_str"
   ]
  },
  {
   "cell_type": "code",
   "execution_count": 52,
   "id": "80196a9a-a440-4de5-bc22-206224d799fb",
   "metadata": {},
   "outputs": [
    {
     "data": {
      "text/plain": [
       "{25: 'Ajay', 30: 'Ajay'}"
      ]
     },
     "execution_count": 52,
     "metadata": {},
     "output_type": "execute_result"
    }
   ],
   "source": [
    "\n",
    "age = [25,30]\n",
    "name = ['Ajay','Ajay']\n",
    "d={}\n",
    "for i,j in zip(age,name):\n",
    "    d[i]=j\n",
    "\n",
    "d"
   ]
  },
  {
   "cell_type": "code",
   "execution_count": 53,
   "id": "4b0c06c6-6306-47c7-8d63-ed22992a5f2a",
   "metadata": {},
   "outputs": [
    {
     "data": {
      "text/plain": [
       "['__class__',\n",
       " '__class_getitem__',\n",
       " '__contains__',\n",
       " '__delattr__',\n",
       " '__delitem__',\n",
       " '__dir__',\n",
       " '__doc__',\n",
       " '__eq__',\n",
       " '__format__',\n",
       " '__ge__',\n",
       " '__getattribute__',\n",
       " '__getitem__',\n",
       " '__getstate__',\n",
       " '__gt__',\n",
       " '__hash__',\n",
       " '__init__',\n",
       " '__init_subclass__',\n",
       " '__ior__',\n",
       " '__iter__',\n",
       " '__le__',\n",
       " '__len__',\n",
       " '__lt__',\n",
       " '__ne__',\n",
       " '__new__',\n",
       " '__or__',\n",
       " '__reduce__',\n",
       " '__reduce_ex__',\n",
       " '__repr__',\n",
       " '__reversed__',\n",
       " '__ror__',\n",
       " '__setattr__',\n",
       " '__setitem__',\n",
       " '__sizeof__',\n",
       " '__str__',\n",
       " '__subclasshook__',\n",
       " 'clear',\n",
       " 'copy',\n",
       " 'fromkeys',\n",
       " 'get',\n",
       " 'items',\n",
       " 'keys',\n",
       " 'pop',\n",
       " 'popitem',\n",
       " 'setdefault',\n",
       " 'update',\n",
       " 'values']"
      ]
     },
     "execution_count": 53,
     "metadata": {},
     "output_type": "execute_result"
    }
   ],
   "source": [
    "dir({})"
   ]
  },
  {
   "cell_type": "markdown",
   "id": "517cac33-18f8-45df-9176-cc1518e493d7",
   "metadata": {},
   "source": [
    "**items-keys-values**"
   ]
  },
  {
   "cell_type": "markdown",
   "id": "d5c66b4e-95e3-4c19-9fa3-7752c612ba66",
   "metadata": {},
   "source": [
    "- items means both keys and values come together\n",
    "\n",
    "- keys means only dictionary keys\n",
    "\n",
    "- values means only dictionary keys"
   ]
  },
  {
   "cell_type": "code",
   "execution_count": 56,
   "id": "283fcdf7-5393-4884-a440-5bc0032fbf20",
   "metadata": {},
   "outputs": [
    {
     "data": {
      "text/plain": [
       "dict_items([('Manish', 25), ('Shubham', 20), ('Govindh', 15)])"
      ]
     },
     "execution_count": 56,
     "metadata": {},
     "output_type": "execute_result"
    }
   ],
   "source": [
    "d = {'Manish':25,'Shubham':20,'Govindh':15}\n",
    "it = d.items()\n",
    "it"
   ]
  },
  {
   "cell_type": "code",
   "execution_count": 57,
   "id": "aa99f800-a9cf-4072-9ff7-9a79bc81aace",
   "metadata": {},
   "outputs": [
    {
     "data": {
      "text/plain": [
       "dict_items"
      ]
     },
     "execution_count": 57,
     "metadata": {},
     "output_type": "execute_result"
    }
   ],
   "source": [
    "type(it)"
   ]
  },
  {
   "cell_type": "code",
   "execution_count": 58,
   "id": "fc7cbca9-5e50-48f9-9cc3-2a620dce0577",
   "metadata": {},
   "outputs": [
    {
     "data": {
      "text/plain": [
       "[('Manish', 25), ('Shubham', 20), ('Govindh', 15)]"
      ]
     },
     "execution_count": 58,
     "metadata": {},
     "output_type": "execute_result"
    }
   ],
   "source": [
    "items_list=list(it)"
   ]
  },
  {
   "cell_type": "markdown",
   "id": "bc7b5acb-45e4-4248-9bd4-240087057025",
   "metadata": {},
   "source": [
    "**Create a list using items**"
   ]
  },
  {
   "cell_type": "code",
   "execution_count": 60,
   "id": "86b03d78-ae42-48f4-9b31-cd5dfc15f306",
   "metadata": {},
   "outputs": [
    {
     "name": "stdout",
     "output_type": "stream",
     "text": [
      "['Manish', 'Shubham', 'Govindh']\n"
     ]
    },
    {
     "data": {
      "text/plain": [
       "[25, 20, 15]"
      ]
     },
     "execution_count": 60,
     "metadata": {},
     "output_type": "execute_result"
    }
   ],
   "source": [
    "d = {'Manish':25,'Shubham':20,'Govindh':15}\n",
    "it = d.items()\n",
    "items_list=list(it)\n",
    "name=[]\n",
    "age=[]\n",
    "for i in items_list:\n",
    "    name.append(i[0])\n",
    "    age.append(i[1])\n",
    "\n",
    "print(name)\n",
    "age\n"
   ]
  },
  {
   "cell_type": "code",
   "execution_count": 128,
   "id": "7a4778f3-63c4-4938-a7e8-443e209afaf4",
   "metadata": {},
   "outputs": [
    {
     "name": "stdin",
     "output_type": "stream",
     "text": [
      "Enter a string:  hello\n"
     ]
    },
    {
     "name": "stdout",
     "output_type": "stream",
     "text": [
      "8 5 12 12 15 "
     ]
    }
   ],
   "source": [
    "import string\n",
    "l = string.ascii_lowercase\n",
    "l1 = list(l)\n",
    "# l2 = string.digits\n",
    "# l3 = list(l2)\n",
    "l4 = []\n",
    "d = {}\n",
    "for i in range(1,27):\n",
    "    l4 = l4 + [i]\n",
    "for j,k in zip(l1,l4):\n",
    "    d[j]=k\n",
    "\n",
    "d\n",
    "str1 = input(\"Enter a string: \")\n",
    "for i in str1:\n",
    "    print(d[i],end=' ')\n",
    "\n",
    "\n",
    "\n",
    "# step-1: create lowercase letters list using string package\n",
    "# step-2: create a digit list 1 to26\n",
    "# step-3: craete dictionary {'a':1,'b':2.....'z':26}\n",
    "# step-4: enter a string: hai\n",
    "# step-5: output: 8-1-9"
   ]
  },
  {
   "cell_type": "code",
   "execution_count": 111,
   "id": "7ad6b0e1-dd55-4a45-84e5-fe2716621c65",
   "metadata": {},
   "outputs": [
    {
     "ename": "NameError",
     "evalue": "name 'dictionary' is not defined",
     "output_type": "error",
     "traceback": [
      "\u001b[1;31m---------------------------------------------------------------------------\u001b[0m",
      "\u001b[1;31mNameError\u001b[0m                                 Traceback (most recent call last)",
      "Cell \u001b[1;32mIn[111], line 1\u001b[0m\n\u001b[1;32m----> 1\u001b[0m \u001b[38;5;28mdir\u001b[39m(dictionary)\n",
      "\u001b[1;31mNameError\u001b[0m: name 'dictionary' is not defined"
     ]
    }
   ],
   "source": [
    "#for i in range(1,27):\n",
    "    \n",
    "# str1 = string.ascii_lowercase\n",
    "# str2 = string.digits\n",
    "# l1 = str1.split()\n",
    "# l2 = str2.split()\n",
    "# l3=[]\n",
    "# d = {}\n",
    "\n",
    "# for i in range(1,27):\n",
    "#     l3=l3+[i]\n",
    "# for j,k in zip(l1,l3):\n",
    "#     d[j]=k\n"
   ]
  },
  {
   "cell_type": "code",
   "execution_count": 121,
   "id": "7546cb46-86cb-446a-8935-4900b6c073e8",
   "metadata": {},
   "outputs": [
    {
     "data": {
      "text/plain": [
       "['Formatter',\n",
       " 'Template',\n",
       " '_ChainMap',\n",
       " '__all__',\n",
       " '__builtins__',\n",
       " '__cached__',\n",
       " '__doc__',\n",
       " '__file__',\n",
       " '__loader__',\n",
       " '__name__',\n",
       " '__package__',\n",
       " '__spec__',\n",
       " '_re',\n",
       " '_sentinel_dict',\n",
       " '_string',\n",
       " 'ascii_letters',\n",
       " 'ascii_lowercase',\n",
       " 'ascii_uppercase',\n",
       " 'capwords',\n",
       " 'digits',\n",
       " 'hexdigits',\n",
       " 'octdigits',\n",
       " 'printable',\n",
       " 'punctuation',\n",
       " 'whitespace']"
      ]
     },
     "execution_count": 121,
     "metadata": {},
     "output_type": "execute_result"
    }
   ],
   "source": [
    "dir(string)"
   ]
  },
  {
   "cell_type": "code",
   "execution_count": null,
   "id": "0ed9e5d7-7137-42e1-9a40-a21ee2646f54",
   "metadata": {},
   "outputs": [],
   "source": []
  }
 ],
 "metadata": {
  "kernelspec": {
   "display_name": "Python 3 (ipykernel)",
   "language": "python",
   "name": "python3"
  },
  "language_info": {
   "codemirror_mode": {
    "name": "ipython",
    "version": 3
   },
   "file_extension": ".py",
   "mimetype": "text/x-python",
   "name": "python",
   "nbconvert_exporter": "python",
   "pygments_lexer": "ipython3",
   "version": "3.11.7"
  }
 },
 "nbformat": 4,
 "nbformat_minor": 5
}
