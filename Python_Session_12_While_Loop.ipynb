{
 "cells": [
  {
   "cell_type": "markdown",
   "id": "273bc3b0-9563-4a96-abfe-2f9a13296dbe",
   "metadata": {},
   "source": [
    "**While loop**\n",
    "\n",
    "  \n",
    "- If you want to apply unlimited iterations then we choose while loop\n",
    "\n",
    "- Any loop we required three things\n",
    "    - Intial point or start point\n",
    "    - Condition to stop\n",
    "    - Increment or decrement\n",
    "\n",
    "- In for loop we are using all these 3 in a single line\n",
    "\n",
    "- In while loop we will use all these 3 in 3 lines\n"
   ]
  },
  {
   "cell_type": "code",
   "execution_count": 1,
   "id": "7d897a3e-fecb-4d67-980e-6dedf77542e1",
   "metadata": {},
   "outputs": [],
   "source": [
    "# initial point\n",
    "\n",
    "# while <condition>:\n",
    " # <statements>\n",
    " # <increment or decrement>\n"
   ]
  },
  {
   "cell_type": "code",
   "execution_count": 2,
   "id": "03d9a503-1f04-4e19-acfc-2fb6bfae68db",
   "metadata": {},
   "outputs": [
    {
     "name": "stdout",
     "output_type": "stream",
     "text": [
      "1 2 3 4 5 "
     ]
    }
   ],
   "source": [
    "for i in range(1,6):\n",
    " print(i,end=' ')"
   ]
  },
  {
   "cell_type": "code",
   "execution_count": 4,
   "id": "58fd7b98-c5d0-4020-98f6-fc5d2309de8f",
   "metadata": {},
   "outputs": [
    {
     "name": "stdout",
     "output_type": "stream",
     "text": [
      "1 2 "
     ]
    }
   ],
   "source": [
    "# Case-1\n",
    "i = 1 # Start point\n",
    "while i<3: # condition\n",
    " print(i,end=' ')\n",
    " i = i+1 # incrememt\n",
    "\n",
    "\n",
    "# step-1 : i=1 while i<1 True print(1) i=1+1=2\n",
    "# step-2 : i=2 while i<2 True print(2) i=1+2=3\n",
    "# step-3 : i=3 while i<3 False "
   ]
  },
  {
   "cell_type": "code",
   "execution_count": 5,
   "id": "6520e19d-30a5-47bf-b0d8-82f8bfa17440",
   "metadata": {},
   "outputs": [
    {
     "name": "stdout",
     "output_type": "stream",
     "text": [
      "1 2 3 4 5 "
     ]
    }
   ],
   "source": [
    "i = 1 # Start point\n",
    "while i<6: # condition\n",
    " print(i,end=' ')\n",
    " i = i+1 # incrememt"
   ]
  },
  {
   "cell_type": "markdown",
   "id": "ffdc1af8-4791-4dc9-960c-50e0fd0e4ca9",
   "metadata": {},
   "source": [
    "**Infinite Loop**\n",
    "\n",
    "- Whenever infinite loop occurs\n",
    "\n",
    "- Apply the condition and then apply the break"
   ]
  },
  {
   "cell_type": "code",
   "execution_count": null,
   "id": "74f05f35-888d-46c5-8a44-5eaef7efdb04",
   "metadata": {},
   "outputs": [],
   "source": [
    "i = 1 # Start point\n",
    "while i!=0: # condition\n",
    " print(i,end=' ')\n",
    " i = i+1\n",
    "    \n",
    "# This is infinite loop\n"
   ]
  },
  {
   "cell_type": "markdown",
   "id": "b4e9b407-0b1c-4fab-ad6c-6d95c804eee3",
   "metadata": {},
   "source": [
    "**True**\n",
    "\n",
    "- When we use infinte iterations will use True\n",
    "\n",
    "- If we want to stop the loop, inside we will apply condition and break"
   ]
  },
  {
   "cell_type": "code",
   "execution_count": 8,
   "id": "fe06f226-a68c-4846-8e98-ce938c3f31ea",
   "metadata": {},
   "outputs": [
    {
     "name": "stdout",
     "output_type": "stream",
     "text": [
      "1 2 3 4 5 6 7 8 9 "
     ]
    }
   ],
   "source": [
    "i = 1 # Start point\n",
    "while i!=0: # condition\n",
    " print(i,end=' ')\n",
    " i = i+1\n",
    " if i == 10:\n",
    "     break\n"
   ]
  },
  {
   "cell_type": "code",
   "execution_count": null,
   "id": "112149b4-161e-45e2-9e2b-f1df39dcb119",
   "metadata": {},
   "outputs": [],
   "source": [
    "# WAP to print -10 to -1\n",
    "# using for loop and while loop\n",
    "\n",
    "# WAP to print -1 to -10\n",
    "# using for loop and while loop\n",
    "\n",
    "# WAP to print 10 to 1\n",
    "# using for loop and while loop"
   ]
  },
  {
   "cell_type": "code",
   "execution_count": 9,
   "id": "e9692eea-4847-4b36-9a8c-097a043d877e",
   "metadata": {},
   "outputs": [
    {
     "name": "stdout",
     "output_type": "stream",
     "text": [
      "-10 -9 -8 -7 -6 -5 -4 -3 -2 -1 -10 -9 -8 -7 -6 -5 -4 -3 -2 -1 "
     ]
    }
   ],
   "source": [
    "# WAP to print -10 to -1\n",
    "# using for loop and while loop\n",
    "for i in range(-10,0):\n",
    " print(i,end =' ')\n",
    "i = -10\n",
    "while i<0:\n",
    " print(i,end =' ')\n",
    " i = i+1\n"
   ]
  },
  {
   "cell_type": "code",
   "execution_count": 10,
   "id": "cc854792-b0c6-40bc-aa3f-568d20d46b11",
   "metadata": {},
   "outputs": [
    {
     "name": "stdout",
     "output_type": "stream",
     "text": [
      "-1 -2 -3 -4 -5 -6 -7 -8 -9 -10 -1 -2 -3 -4 -5 -6 -7 -8 -9 -10 "
     ]
    }
   ],
   "source": [
    "# WAP to print -1 to -10\n",
    "# using for loop and while loop\n",
    "for i in range(-1,-11,-1):\n",
    " print(i,end =' ')\n",
    "i = -1\n",
    "while i>=-10:\n",
    " print(i,end =' ')\n",
    " i=i-1\n"
   ]
  },
  {
   "cell_type": "code",
   "execution_count": 11,
   "id": "695fff2c-7586-40b1-9536-792a2f15e1e8",
   "metadata": {},
   "outputs": [
    {
     "name": "stdout",
     "output_type": "stream",
     "text": [
      "10 9 8 7 6 5 4 3 2 1 10 9 8 7 6 5 4 3 2 1 "
     ]
    }
   ],
   "source": [
    "# WAP to print 10 to 1\n",
    "# using for loop and while loop\n",
    "for i in range(10,0,-1):\n",
    " print(i,end =' ')\n",
    "i = 10\n",
    "while i>0:\n",
    " print(i,end =' ')\n",
    " i = i-1"
   ]
  },
  {
   "cell_type": "code",
   "execution_count": 16,
   "id": "09327a47-1948-410f-9d3c-f845c8b05664",
   "metadata": {},
   "outputs": [
    {
     "name": "stdout",
     "output_type": "stream",
     "text": [
      "11 is odd number\n",
      "12 is even number\n",
      "13 is odd number\n",
      "14 is even number\n",
      "15 is odd number\n",
      "16 is even number\n",
      "17 is odd number\n",
      "18 is even number\n",
      "19 is odd number\n",
      "20 is even number\n",
      "21 is odd number\n"
     ]
    }
   ],
   "source": [
    "for i in range(11,22):\n",
    " if i % 2 == 0:\n",
    "     print(f\"{i} is even number\")\n",
    " else:\n",
    "     print(f\"{i} is odd number\")\n",
    "i=11\n",
    "while i>=22:\n",
    " if i % 2 == 0:\n",
    "     print(f\"{i} is even number\")\n",
    " else:\n",
    "     print(f\"{i} is odd number\")\n",
    "\n",
    " i=i+1\n"
   ]
  },
  {
   "cell_type": "code",
   "execution_count": 15,
   "id": "c2e57b18-63ff-4b39-9bcf-fdf1af643a82",
   "metadata": {},
   "outputs": [
    {
     "name": "stdout",
     "output_type": "stream",
     "text": [
      "11 is odd number\n",
      "12 is even number\n",
      "13 is odd number\n",
      "14 is even number\n",
      "15 is odd number\n",
      "16 is even number\n",
      "17 is odd number\n",
      "18 is even number\n",
      "19 is odd number\n",
      "20 is even number\n",
      "21 is odd number\n",
      "22 is even number\n"
     ]
    }
   ],
   "source": [
    "i=11\n",
    "while i<=22:\n",
    " if i % 2 == 0:\n",
    "     print(f\"{i} is even number\")\n",
    " else:\n",
    "     print(f\"{i} is odd number\")\n",
    "\n",
    " i=i+1\n"
   ]
  },
  {
   "cell_type": "code",
   "execution_count": null,
   "id": "34da7be6-3a34-4438-a901-12060eddf4f4",
   "metadata": {},
   "outputs": [],
   "source": []
  }
 ],
 "metadata": {
  "kernelspec": {
   "display_name": "Python 3 (ipykernel)",
   "language": "python",
   "name": "python3"
  },
  "language_info": {
   "codemirror_mode": {
    "name": "ipython",
    "version": 3
   },
   "file_extension": ".py",
   "mimetype": "text/x-python",
   "name": "python",
   "nbconvert_exporter": "python",
   "pygments_lexer": "ipython3",
   "version": "3.11.7"
  }
 },
 "nbformat": 4,
 "nbformat_minor": 5
}
