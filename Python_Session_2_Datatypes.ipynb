{
 "cells": [
  {
   "cell_type": "code",
   "execution_count": 1,
   "id": "b253e941-6ed2-46c3-9e01-3434c9f78421",
   "metadata": {},
   "outputs": [
    {
     "data": {
      "text/plain": [
       "type"
      ]
     },
     "execution_count": 1,
     "metadata": {},
     "output_type": "execute_result"
    }
   ],
   "source": [
    "num=100\n",
    "type"
   ]
  },
  {
   "cell_type": "code",
   "execution_count": 2,
   "id": "5a86b5d0-c65c-4fd5-a92a-e1e4364afec1",
   "metadata": {},
   "outputs": [
    {
     "data": {
      "text/plain": [
       "int"
      ]
     },
     "execution_count": 2,
     "metadata": {},
     "output_type": "execute_result"
    }
   ],
   "source": [
    "type(num)\n",
    "int"
   ]
  },
  {
   "cell_type": "markdown",
   "id": "ecdca02b-8dc7-4c5c-9466-e21750d12b36",
   "metadata": {},
   "source": [
    "- integer\n",
    "\n",
    "- float\n",
    "\n",
    "- string\n",
    "\n",
    "- Boolean\n",
    "\n",
    "- complex\n",
    "\n",
    "- list\n",
    " \n",
    "- tuple\n",
    "\n",
    "- dictionary\n",
    "\n",
    "- set"
   ]
  },
  {
   "cell_type": "markdown",
   "id": "54bce6c0-b838-421a-8c28-4369909b824a",
   "metadata": {},
   "source": [
    "# Python basic concepts- Part1\n",
    "- Variables\n",
    "\n",
    "- Data types\n",
    "\n",
    "- Data types conversion (type casting)\n",
    "\n",
    "- print statements\n",
    "\n",
    "- overview about packages\n",
    "\n",
    "- Write your first end to end program\n",
    "\n",
    "- Conditions (if-else)\n",
    "\n",
    "- Functions\n",
    "\n",
    "- loops (for-while)\n",
    "\n",
    "# Python part-2\n",
    "- strings\n",
    "\n",
    "- list\n",
    "\n",
    "- dictionary\n",
    "\n",
    "- tuple (assesment)\n",
    "\n",
    "- sets\n",
    "\n",
    "- file handling\n",
    "\n",
    "- lambda functions\n",
    "\n",
    "# Python part-3: OOPS concepts"
   ]
  },
  {
   "cell_type": "markdown",
   "id": "b4d14f1a-e0f9-4e3d-9013-e3a9382927b0",
   "metadata": {},
   "source": [
    "**Integer**\n",
    "\n",
    "- In real time we will use decimal number system\n",
    "\n",
    "- what ever the input but python will give output in decimal number foramt\n",
    "\n",
    "- binary\n",
    "\n",
    "    - binary includes only 0 and 1\n",
    "\n",
    "    - bi means =2\n",
    "\n",
    "    - representation is : 0b111, 0B101\n",
    "\n",
    "    - wrong representation is : 0b123"
   ]
  },
  {
   "cell_type": "code",
   "execution_count": 3,
   "id": "8ae7c6c9-0af4-4ac5-abac-041e277f45f9",
   "metadata": {},
   "outputs": [
    {
     "data": {
      "text/plain": [
       "int"
      ]
     },
     "execution_count": 3,
     "metadata": {},
     "output_type": "execute_result"
    }
   ],
   "source": [
    "num=111\n",
    "type(num)"
   ]
  },
  {
   "cell_type": "code",
   "execution_count": null,
   "id": "07e8c6fb-eb57-49e8-b1ed-a83ff9ca4a15",
   "metadata": {},
   "outputs": [],
   "source": []
  }
 ],
 "metadata": {
  "kernelspec": {
   "display_name": "Python 3 (ipykernel)",
   "language": "python",
   "name": "python3"
  },
  "language_info": {
   "codemirror_mode": {
    "name": "ipython",
    "version": 3
   },
   "file_extension": ".py",
   "mimetype": "text/x-python",
   "name": "python",
   "nbconvert_exporter": "python",
   "pygments_lexer": "ipython3",
   "version": "3.11.7"
  }
 },
 "nbformat": 4,
 "nbformat_minor": 5
}
