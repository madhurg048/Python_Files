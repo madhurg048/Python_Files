{
 "cells": [
  {
   "cell_type": "markdown",
   "id": "fc855f83-1c30-44d5-8469-62a3518af574",
   "metadata": {},
   "source": [
    "- Lambda function also a function\n",
    "\n",
    "- It is a kond of a single line function\n",
    "\n",
    "- We already seen list comprehension which means single line\n",
    "\n",
    "- Lambda functions gives a flexiblity to stop writing many lines\n",
    "\n",
    "- on iterative execution it will save timimng"
   ]
  },
  {
   "cell_type": "code",
   "execution_count": 1,
   "id": "6f155dfe-faa9-4abc-9862-3d80fe918865",
   "metadata": {},
   "outputs": [
    {
     "data": {
      "text/plain": [
       "30"
      ]
     },
     "execution_count": 1,
     "metadata": {},
     "output_type": "execute_result"
    }
   ],
   "source": [
    "def summ(num):\n",
    "    return(num+10)\n",
    "\n",
    "summ(20)"
   ]
  },
  {
   "cell_type": "markdown",
   "id": "f89adc53-4c42-4b5a-9c39-bb3ecebee163",
   "metadata": {},
   "source": [
    "$Pattern-1$"
   ]
  },
  {
   "cell_type": "markdown",
   "id": "44f297ad-2376-4dde-961f-b55dac0f6352",
   "metadata": {},
   "source": [
    "- function name\n",
    "\n",
    "- variable name\n",
    "\n",
    "- return output"
   ]
  },
  {
   "cell_type": "code",
   "execution_count": 6,
   "id": "53fab36c-5caa-461b-b095-100a165a6056",
   "metadata": {},
   "outputs": [
    {
     "data": {
      "text/plain": [
       "40"
      ]
     },
     "execution_count": 6,
     "metadata": {},
     "output_type": "execute_result"
    }
   ],
   "source": [
    "# function_name = lambda<variable_name>:<return_output>\n",
    "\n",
    "summ = lambda num  :num+10\n",
    "summ(30)"
   ]
  },
  {
   "cell_type": "code",
   "execution_count": 7,
   "id": "e947e045-f682-429d-9069-d215f2d7bd5f",
   "metadata": {},
   "outputs": [
    {
     "data": {
      "text/plain": [
       "1000"
      ]
     },
     "execution_count": 7,
     "metadata": {},
     "output_type": "execute_result"
    }
   ],
   "source": [
    "def cube(x):\n",
    "    return(x*x*x)\n",
    "\n",
    "cube(10)"
   ]
  },
  {
   "cell_type": "code",
   "execution_count": 8,
   "id": "eb66bff3-351b-4d8c-bed4-71aecedd816a",
   "metadata": {},
   "outputs": [
    {
     "data": {
      "text/plain": [
       "1000"
      ]
     },
     "execution_count": 8,
     "metadata": {},
     "output_type": "execute_result"
    }
   ],
   "source": [
    "cube = lambda x : x*x*x\n",
    "cube(10)"
   ]
  },
  {
   "cell_type": "markdown",
   "id": "39720fd8-9f80-4f9e-b3f4-dd8f6000b848",
   "metadata": {},
   "source": [
    "$Pattren-2$\n",
    "\n",
    "**Two arguments**"
   ]
  },
  {
   "cell_type": "code",
   "execution_count": 10,
   "id": "1bba30fe-5661-490b-89df-a0da7ca4e34e",
   "metadata": {},
   "outputs": [
    {
     "data": {
      "text/plain": [
       "50"
      ]
     },
     "execution_count": 10,
     "metadata": {},
     "output_type": "execute_result"
    }
   ],
   "source": [
    "def add(n1,n2):\n",
    "    return(n1+n2)\n",
    "add(20,30)"
   ]
  },
  {
   "cell_type": "code",
   "execution_count": 11,
   "id": "5762d80a-936c-4c79-bde2-401d4500f08a",
   "metadata": {},
   "outputs": [
    {
     "data": {
      "text/plain": [
       "60"
      ]
     },
     "execution_count": 11,
     "metadata": {},
     "output_type": "execute_result"
    }
   ],
   "source": [
    "# function_name = lambda<arg1>,<arg2>:<return_output>\n",
    "\n",
    "add = lambda n1,n2 : n1+n2\n",
    "add(20,40)"
   ]
  },
  {
   "cell_type": "code",
   "execution_count": 16,
   "id": "1b6b4ffe-1fef-4fc2-8f6c-7f958e9ec4d6",
   "metadata": {},
   "outputs": [
    {
     "data": {
      "text/plain": [
       "22.0"
      ]
     },
     "execution_count": 16,
     "metadata": {},
     "output_type": "execute_result"
    }
   ],
   "source": [
    "avg = lambda n1,n2,n3 : round((n1+n2+n3)/3,1)\n",
    "avg(10,20,36)"
   ]
  },
  {
   "cell_type": "markdown",
   "id": "2875bbdb-f6fd-462c-97d7-01ecb411ef17",
   "metadata": {},
   "source": [
    "$Pattern-3$\n",
    "\n",
    "**Default Arguments**"
   ]
  },
  {
   "cell_type": "code",
   "execution_count": 17,
   "id": "43960e0c-375c-4371-a039-65ab0a971347",
   "metadata": {},
   "outputs": [
    {
     "data": {
      "text/plain": [
       "26.0"
      ]
     },
     "execution_count": 17,
     "metadata": {},
     "output_type": "execute_result"
    }
   ],
   "source": [
    "avg = lambda n1,n2,n3 = 48 : round((n1+n2+n3)/3,1)\n",
    "avg(10,20)"
   ]
  },
  {
   "cell_type": "markdown",
   "id": "3ec9f7d8-13d9-410c-a37f-c6c9549c1ab0",
   "metadata": {},
   "source": [
    "$Pattern-4$\n",
    "\n",
    "**if**"
   ]
  },
  {
   "cell_type": "code",
   "execution_count": 18,
   "id": "8bf22284-14ea-4af4-93dc-e39f41bce1bb",
   "metadata": {},
   "outputs": [
    {
     "name": "stdout",
     "output_type": "stream",
     "text": [
      "hello\n"
     ]
    }
   ],
   "source": [
    "def greet(n1):\n",
    "    if n1>10:\n",
    "        print('hello')\n",
    "\n",
    "greet(20)"
   ]
  },
  {
   "cell_type": "code",
   "execution_count": 19,
   "id": "dd89948c-d832-4b37-bd1c-cfc55ab655b7",
   "metadata": {},
   "outputs": [
    {
     "data": {
      "text/plain": [
       "'hello'"
      ]
     },
     "execution_count": 19,
     "metadata": {},
     "output_type": "execute_result"
    }
   ],
   "source": [
    "# In list comprehensions             \n",
    "#<if_out> <if_condition> <else> <else_output> <for loop>\n",
    "# <for_loop>\n",
    "\n",
    "# <fun_name> = lambda <arg1>: <if_out> <if_condition> <else> <else_output> \n",
    "\n",
    "greet = lambda n1 : 'hello' if n1>10 else 'bye'\n",
    "greet(20)"
   ]
  },
  {
   "cell_type": "code",
   "execution_count": 21,
   "id": "88819e43-203e-4510-88d1-1d343288f797",
   "metadata": {},
   "outputs": [
    {
     "data": {
      "text/plain": [
       "'20 is greatest'"
      ]
     },
     "execution_count": 21,
     "metadata": {},
     "output_type": "execute_result"
    }
   ],
   "source": [
    "# Wap lambda function Take two num find the greatest number\n",
    "\n",
    "greatest_num = lambda n1,n2 : f'{n1} is greatest' if n1>n2 else f'{n2} is greatest'\n",
    "greatest_num(10,20)"
   ]
  },
  {
   "cell_type": "markdown",
   "id": "c4eec49a-af6b-4c6c-99e7-596f4578a960",
   "metadata": {},
   "source": [
    "$Pattern-5$\n",
    "\n",
    "**Using List**"
   ]
  },
  {
   "cell_type": "code",
   "execution_count": 22,
   "id": "1e242c28-edd0-4081-aef5-bc97622ed112",
   "metadata": {},
   "outputs": [
    {
     "data": {
      "text/plain": [
       "['Hyd', 'Blr', 'Chennai']"
      ]
     },
     "execution_count": 22,
     "metadata": {},
     "output_type": "execute_result"
    }
   ],
   "source": [
    "list1 = ['hyd','blr','chennai']\n",
    "# op = list2=['Hyd','Blr',\"Chennai\"]\n",
    "\n",
    "list2 = []\n",
    "for i in list1:\n",
    "    list2.append(i.capitalize())\n",
    "\n",
    "list2"
   ]
  },
  {
   "cell_type": "markdown",
   "id": "4e0211c7-3fad-4581-a5c0-faf2018dfacd",
   "metadata": {},
   "source": [
    "- what is the variable name ===> i\n",
    "\n",
    "- what is the return object ==> i.capitalize()\n",
    "\n",
    "- from where it is coming ==> list1\n",
    "\n",
    "**lambda <variable name> : <output>,<iterable>**\n",
    "\n",
    "- strings are iterables\n",
    "\n",
    "- list are iterable\n",
    "\n",
    "- we can iterate by using for loop"
   ]
  },
  {
   "cell_type": "code",
   "execution_count": 24,
   "id": "c21af39f-892a-439a-8f4e-fe987ce035fe",
   "metadata": {},
   "outputs": [
    {
     "data": {
      "text/plain": [
       "['Hyd', 'Blr', 'Chennai']"
      ]
     },
     "execution_count": 24,
     "metadata": {},
     "output_type": "execute_result"
    }
   ],
   "source": [
    "list2 = [i.capitalize() for i in list1]\n",
    "list2"
   ]
  },
  {
   "cell_type": "code",
   "execution_count": 26,
   "id": "100e80d3-75da-4680-9ae7-5023533779e9",
   "metadata": {},
   "outputs": [
    {
     "data": {
      "text/plain": [
       "['HYD', 'BLR', 'CHENNAI']"
      ]
     },
     "execution_count": 26,
     "metadata": {},
     "output_type": "execute_result"
    }
   ],
   "source": [
    "list2 = [i.upper() for i in list1]\n",
    "list2"
   ]
  },
  {
   "cell_type": "code",
   "execution_count": 39,
   "id": "2c9c89d8-5bb0-412c-b64d-0dbc10e4d06b",
   "metadata": {},
   "outputs": [
    {
     "data": {
      "text/plain": [
       "(<function __main__.<lambda>(i)>, ['hyd', 'blr', 'chennai'])"
      ]
     },
     "execution_count": 39,
     "metadata": {},
     "output_type": "execute_result"
    }
   ],
   "source": [
    "# lambda <variable name> : <output>,<iterable>\n",
    "lambda i : i.capitalize(), list1"
   ]
  },
  {
   "cell_type": "markdown",
   "id": "52680170-7a3b-4af8-a067-b196658932ad",
   "metadata": {},
   "source": [
    "**map**"
   ]
  },
  {
   "cell_type": "code",
   "execution_count": 38,
   "id": "00c73462-5752-42b6-a026-f50142e336fb",
   "metadata": {},
   "outputs": [
    {
     "data": {
      "text/plain": [
       "['Hyd', 'Blr', 'Chennai']"
      ]
     },
     "execution_count": 38,
     "metadata": {},
     "output_type": "execute_result"
    }
   ],
   "source": [
    "list1 = ['hyd','blr','chennai']\n",
    "list(map(lambda i : i.capitalize(), list1))"
   ]
  },
  {
   "cell_type": "code",
   "execution_count": null,
   "id": "ea5d1c8d-94c2-4f3c-9d89-9fa90b1ebe47",
   "metadata": {},
   "outputs": [],
   "source": [
    "# step-1 : create a noemal lambda fumction\n",
    "#         Lambda <arg>:<output>\n",
    "# step-2: add the iterable\n",
    "#         Lambda <arg>:<output>,<list>\n",
    "# step-3: map the both function and list\n",
    "#         map(Lambda <arg>:<output>,<list>)\n",
    "# step-4: save the result in a tuple or list\n",
    "#         list(map(Lambda <arg>:<output>,<list>))\n",
    "\n",
    "lambda i : i.capitalize()\n",
    "lambda i : i.capitalize(), list1)\n",
    "map(lambda i : i.capitalize(), list1)\n",
    "list(map(lambda i : i.capitalize(), list1))"
   ]
  },
  {
   "cell_type": "code",
   "execution_count": 41,
   "id": "f19c45aa-a0f6-4ae3-a720-ccc872c28246",
   "metadata": {},
   "outputs": [
    {
     "name": "stdout",
     "output_type": "stream",
     "text": [
      "['Hyd', 'Blr', 'Chennai']\n",
      "['HYD', 'BLR', 'CHENNAI']\n",
      "['hyd', 'blr', 'chennai']\n",
      "['***hyd****', '***blr****', '*chennai**']\n"
     ]
    }
   ],
   "source": [
    "print(list(map(lambda i : i.capitalize(), list1)))\n",
    "print(list(map(lambda i : i.upper(), list1)))\n",
    "print(list(map(lambda i : i.lower(), list1)))\n",
    "print(list(map(lambda i : i.center(10,'*'), list1)))"
   ]
  },
  {
   "cell_type": "code",
   "execution_count": 43,
   "id": "a827b1a3-2ca9-4a76-a5a1-bac94d1858ef",
   "metadata": {},
   "outputs": [
    {
     "data": {
      "text/plain": [
       "[False, False, True, True]"
      ]
     },
     "execution_count": 43,
     "metadata": {},
     "output_type": "execute_result"
    }
   ],
   "source": [
    "list1 = ['hyd','blr','che#nnai','mumb#ai']\n",
    "# op = ['che#nnai','mumb#ai']\n",
    "\n",
    "\n",
    "#whenever you are applying a condition on list\n",
    "#write only condition without using if\n",
    "lambda i: '#' in i,list1\n",
    "\n",
    "list(map(lambda i: '#' in i,list1))"
   ]
  },
  {
   "cell_type": "markdown",
   "id": "dc504bc1-badc-4c71-866d-5bd27ab98ad1",
   "metadata": {},
   "source": [
    "**filter method**"
   ]
  },
  {
   "cell_type": "code",
   "execution_count": 44,
   "id": "4bc22a2a-d882-43d3-bd0e-d5cd41f09377",
   "metadata": {},
   "outputs": [
    {
     "data": {
      "text/plain": [
       "['che#nnai', 'mumb#ai']"
      ]
     },
     "execution_count": 44,
     "metadata": {},
     "output_type": "execute_result"
    }
   ],
   "source": [
    "list(filter(lambda i: '#' in i,list1))"
   ]
  },
  {
   "cell_type": "code",
   "execution_count": 47,
   "id": "ffa0233e-db55-4c7c-a33c-f8538931761e",
   "metadata": {},
   "outputs": [
    {
     "data": {
      "text/plain": [
       "['hyd', 'blr']"
      ]
     },
     "execution_count": 47,
     "metadata": {},
     "output_type": "execute_result"
    }
   ],
   "source": [
    "list1 = ['hyd','blr','chennai','mumbai']\n",
    "list2 = ['hyd','blr']# len(i)<=3\n",
    "\n",
    "list(filter(lambda i : len(i)<=3,list1))"
   ]
  },
  {
   "cell_type": "code",
   "execution_count": null,
   "id": "833282da-3af9-467e-92cd-c1c94a139fe7",
   "metadata": {},
   "outputs": [],
   "source": []
  }
 ],
 "metadata": {
  "kernelspec": {
   "display_name": "Python 3 (ipykernel)",
   "language": "python",
   "name": "python3"
  },
  "language_info": {
   "codemirror_mode": {
    "name": "ipython",
    "version": 3
   },
   "file_extension": ".py",
   "mimetype": "text/x-python",
   "name": "python",
   "nbconvert_exporter": "python",
   "pygments_lexer": "ipython3",
   "version": "3.11.7"
  }
 },
 "nbformat": 4,
 "nbformat_minor": 5
}
