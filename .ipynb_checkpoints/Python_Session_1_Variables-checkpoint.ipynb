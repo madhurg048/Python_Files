{
 "cells": [
  {
   "cell_type": "code",
   "execution_count": 1,
   "id": "904b1db2-2b4f-43ce-9dce-00b5ea5df148",
   "metadata": {},
   "outputs": [
    {
     "data": {
      "text/plain": [
       "30"
      ]
     },
     "execution_count": 1,
     "metadata": {},
     "output_type": "execute_result"
    }
   ],
   "source": [
    "a =10\n",
    "b = 20\n",
    "c = a+b\n",
    "c"
   ]
  },
  {
   "cell_type": "markdown",
   "id": "ec2d0b59-c6db-4c62-bbd9-0b94d07e90ba",
   "metadata": {},
   "source": [
    "## Variables\n",
    "\n",
    "- Variables is used to store the value\n",
    " \n",
    "- Variables can change their values\n",
    "\n",
    "- In python latest value will be consider\n",
    "\n",
    "- Python is a step by step process\n"
   ]
  },
  {
   "cell_type": "code",
   "execution_count": 1,
   "id": "1b73ae31-b3bf-46a4-9833-a16c62d120b5",
   "metadata": {},
   "outputs": [
    {
     "data": {
      "text/plain": [
       "10"
      ]
     },
     "execution_count": 1,
     "metadata": {},
     "output_type": "execute_result"
    }
   ],
   "source": [
    "num = 10\n",
    "num\n",
    "\n",
    "# -> comment\n",
    "# value 10 stored in variable caleed 'num'\n"
   ]
  },
  {
   "cell_type": "code",
   "execution_count": 2,
   "id": "4fe71732-c937-44b0-ab43-94d5edab0a0b",
   "metadata": {},
   "outputs": [
    {
     "data": {
      "text/plain": [
       "100"
      ]
     },
     "execution_count": 2,
     "metadata": {},
     "output_type": "execute_result"
    }
   ],
   "source": [
    "NUM = 100 \n",
    "NUM"
   ]
  },
  {
   "cell_type": "code",
   "execution_count": 3,
   "id": "ae798781-f2ab-4d84-8ca9-020c03fa6578",
   "metadata": {},
   "outputs": [],
   "source": [
    "#whenever you run,a new cell will be created\n",
    "\n",
    "#shift+enter"
   ]
  },
  {
   "cell_type": "code",
   "execution_count": 4,
   "id": "59bf0c11-cc2a-4441-ba9a-66aa5bf7ec36",
   "metadata": {},
   "outputs": [
    {
     "data": {
      "text/plain": [
       "200"
      ]
     },
     "execution_count": 4,
     "metadata": {},
     "output_type": "execute_result"
    }
   ],
   "source": [
    "NUMber = 200\n",
    "NUMber"
   ]
  },
  {
   "cell_type": "code",
   "execution_count": 5,
   "id": "16755411-90ea-4359-81af-85c06378c1e6",
   "metadata": {},
   "outputs": [
    {
     "data": {
      "text/plain": [
       "300"
      ]
     },
     "execution_count": 5,
     "metadata": {},
     "output_type": "execute_result"
    }
   ],
   "source": [
    "number123 = 300\n",
    "number123"
   ]
  },
  {
   "cell_type": "code",
   "execution_count": 6,
   "id": "bf382638-9522-4c85-96e9-f008cdc1face",
   "metadata": {},
   "outputs": [
    {
     "ename": "SyntaxError",
     "evalue": "invalid decimal literal (2979435193.py, line 1)",
     "output_type": "error",
     "traceback": [
      "\u001b[1;36m  Cell \u001b[1;32mIn[6], line 1\u001b[1;36m\u001b[0m\n\u001b[1;33m    123number = 400\u001b[0m\n\u001b[1;37m      ^\u001b[0m\n\u001b[1;31mSyntaxError\u001b[0m\u001b[1;31m:\u001b[0m invalid decimal literal\n"
     ]
    }
   ],
   "source": [
    "123number = 400\n",
    "123number"
   ]
  },
  {
   "cell_type": "code",
   "execution_count": 7,
   "id": "b4b8de80-b9c9-4f4a-aa77-beee4acd146d",
   "metadata": {},
   "outputs": [
    {
     "ename": "SyntaxError",
     "evalue": "cannot assign to expression here. Maybe you meant '==' instead of '='? (3587029650.py, line 1)",
     "output_type": "error",
     "traceback": [
      "\u001b[1;36m  Cell \u001b[1;32mIn[7], line 1\u001b[1;36m\u001b[0m\n\u001b[1;33m    number@one = 1\u001b[0m\n\u001b[1;37m    ^\u001b[0m\n\u001b[1;31mSyntaxError\u001b[0m\u001b[1;31m:\u001b[0m cannot assign to expression here. Maybe you meant '==' instead of '='?\n"
     ]
    }
   ],
   "source": [
    "number@one = 1\n",
    "nuumber@one"
   ]
  },
  {
   "cell_type": "code",
   "execution_count": 8,
   "id": "d549aef0-d641-4d6d-8ebd-f444a51827ed",
   "metadata": {},
   "outputs": [
    {
     "ename": "SyntaxError",
     "evalue": "invalid syntax (3005984422.py, line 1)",
     "output_type": "error",
     "traceback": [
      "\u001b[1;36m  Cell \u001b[1;32mIn[8], line 1\u001b[1;36m\u001b[0m\n\u001b[1;33m    number one = 300\u001b[0m\n\u001b[1;37m           ^\u001b[0m\n\u001b[1;31mSyntaxError\u001b[0m\u001b[1;31m:\u001b[0m invalid syntax\n"
     ]
    }
   ],
   "source": [
    "number one = 300\n",
    "number one\n"
   ]
  },
  {
   "cell_type": "code",
   "execution_count": 9,
   "id": "c431c064-1967-4a43-9a3d-ada862da7504",
   "metadata": {},
   "outputs": [
    {
     "data": {
      "text/plain": [
       "500"
      ]
     },
     "execution_count": 9,
     "metadata": {},
     "output_type": "execute_result"
    }
   ],
   "source": [
    "number_1 = 500\n",
    "number_1"
   ]
  },
  {
   "cell_type": "code",
   "execution_count": 10,
   "id": "70bb2f8f-91b4-4acb-8e20-5e6f6b5d735d",
   "metadata": {},
   "outputs": [
    {
     "data": {
      "text/plain": [
       "800"
      ]
     },
     "execution_count": 10,
     "metadata": {},
     "output_type": "execute_result"
    }
   ],
   "source": [
    "_ = 800\n",
    "_"
   ]
  },
  {
   "cell_type": "code",
   "execution_count": 11,
   "id": "e94a154f-0a88-477b-9e3e-a55d1da5b704",
   "metadata": {},
   "outputs": [
    {
     "ename": "SyntaxError",
     "evalue": "invalid syntax (1652103121.py, line 1)",
     "output_type": "error",
     "traceback": [
      "\u001b[1;36m  Cell \u001b[1;32mIn[11], line 1\u001b[1;36m\u001b[0m\n\u001b[1;33m    if = 800\u001b[0m\n\u001b[1;37m       ^\u001b[0m\n\u001b[1;31mSyntaxError\u001b[0m\u001b[1;31m:\u001b[0m invalid syntax\n"
     ]
    }
   ],
   "source": [
    "if = 800\n",
    "if"
   ]
  },
  {
   "cell_type": "code",
   "execution_count": 12,
   "id": "daf65d1a-ab73-4785-907f-b96aae7cc112",
   "metadata": {},
   "outputs": [
    {
     "ename": "SyntaxError",
     "evalue": "invalid syntax (3034632313.py, line 1)",
     "output_type": "error",
     "traceback": [
      "\u001b[1;36m  Cell \u001b[1;32mIn[12], line 1\u001b[1;36m\u001b[0m\n\u001b[1;33m    while = 800\u001b[0m\n\u001b[1;37m          ^\u001b[0m\n\u001b[1;31mSyntaxError\u001b[0m\u001b[1;31m:\u001b[0m invalid syntax\n"
     ]
    }
   ],
   "source": [
    "while = 800\n",
    "while"
   ]
  },
  {
   "cell_type": "markdown",
   "id": "55f1068f-8e35-4d46-84e0-c762fc03c667",
   "metadata": {},
   "source": [
    "- varaibles are case sensitive\n",
    " \n",
    "- variables can be capital and small letters\n",
    " \n",
    "- variables does not allow special charachters except underscore(_)\n",
    " \n",
    "- only underscore(_) can be a variable (m_a_d_h_u_r = 800)\n",
    " \n",
    "- variables does not contain space between the words\n",
    " \n",
    "- variables can not contain numbers as prefix ex: 123num\n",
    " \n",
    "- variables can contain numbers as suffix ex: num123\n",
    " \n",
    "- variables does not contain any keywords\n",
    " \n",
    "- variables are case sensitive"
   ]
  },
  {
   "cell_type": "code",
   "execution_count": null,
   "id": "54715b02-0b1f-4808-9847-eb6f9c935f2f",
   "metadata": {},
   "outputs": [],
   "source": []
  }
 ],
 "metadata": {
  "kernelspec": {
   "display_name": "Python 3 (ipykernel)",
   "language": "python",
   "name": "python3"
  },
  "language_info": {
   "codemirror_mode": {
    "name": "ipython",
    "version": 3
   },
   "file_extension": ".py",
   "mimetype": "text/x-python",
   "name": "python",
   "nbconvert_exporter": "python",
   "pygments_lexer": "ipython3",
   "version": "3.11.7"
  }
 },
 "nbformat": 4,
 "nbformat_minor": 5
}
